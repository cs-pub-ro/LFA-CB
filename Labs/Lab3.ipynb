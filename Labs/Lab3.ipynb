{
  "nbformat": 4,
  "nbformat_minor": 0,
  "metadata": {
    "colab": {
      "name": "Lab3.ipynb",
      "provenance": [],
      "collapsed_sections": [],
      "include_colab_link": true
    },
    "kernelspec": {
      "name": "python3",
      "display_name": "Python 3"
    }
  },
  "cells": [
    {
      "cell_type": "markdown",
      "metadata": {
        "id": "view-in-github",
        "colab_type": "text"
      },
      "source": [
        "<a href=\"https://colab.research.google.com/github/cs-pub-ro/LFA-CB/blob/master/Labs/Lab3.ipynb\" target=\"_parent\"><img src=\"https://colab.research.google.com/assets/colab-badge.svg\" alt=\"Open In Colab\"/></a>"
      ]
    },
    {
      "cell_type": "markdown",
      "metadata": {
        "id": "xJizISganlyl",
        "colab_type": "text"
      },
      "source": [
        "## OOP în Python\n",
        "\n",
        "Python pune la dispoziție clase și obiecte, similare cu cele din Java. Clasele\n",
        "sunt o metodă de crea noi tipuri, încapsulând datele necesare reprezentării\n",
        "acestora, precum și comportamentul lor. Acestea pot fi instanțiate pentru a crea\n",
        "obiecte cu propria stare, independente între ele.\n",
        "\n",
        "**Notă**: Reiterăm ideea că scopul laboratorului de LFA nu este de a aprofunda\n",
        "limbajul Python, el fiind folosit doar ca o unealtă pentru a ne ușura\n",
        "implementarea. Nu este, deci, necesar să înțelegeți în profunzime modelul de\n",
        "clase din Python; vom prezenta doar strictul necesar."
      ]
    },
    {
      "cell_type": "markdown",
      "metadata": {
        "id": "tOecisgQpGBH",
        "colab_type": "text"
      },
      "source": [
        "### I. Definire"
      ]
    },
    {
      "cell_type": "code",
      "metadata": {
        "id": "oGUhufjMn_1v",
        "colab_type": "code",
        "colab": {}
      },
      "source": [
        "\n",
        "class ExampleClass1(object):\n",
        "    # constructori,\n",
        "    # metode,\n",
        "    # etc.\n",
        "    pass"
      ],
      "execution_count": 0,
      "outputs": []
    },
    {
      "cell_type": "markdown",
      "metadata": {
        "id": "YsH50n8noCik",
        "colab_type": "text"
      },
      "source": [
        "### II. Instanțiere\n",
        "\n",
        "Instanțierea folosește sintaxa de apel de funcție, ca și cum numele clasei este\n",
        "o funcție ce ne întoarce un obiect de tipul respectiv:"
      ]
    },
    {
      "cell_type": "code",
      "metadata": {
        "id": "yl5TSQ7woIEw",
        "colab_type": "code",
        "colab": {}
      },
      "source": [
        "exampleObject = ExampleClass1()"
      ],
      "execution_count": 0,
      "outputs": []
    },
    {
      "cell_type": "markdown",
      "metadata": {
        "id": "VhsvU78PoM2h",
        "colab_type": "text"
      },
      "source": [
        "### III. Metode și membrii\n",
        "\n",
        "Metodele sunt funcții definite în cadrul unei clase, care pot fi apelate pe un\n",
        "obiect anume cu o sintaxă similară celei din Java. Spre deosebire de Java,\n",
        "metodele primesc explicit o referință către obiectul curent, pasată ca prim\n",
        "parametru, denumit convențional `self` (similar cu `this` din Java):"
      ]
    },
    {
      "cell_type": "code",
      "metadata": {
        "id": "PsTvMIzUoVYg",
        "colab_type": "code",
        "colab": {}
      },
      "source": [
        "class ExampleClass2(object):\n",
        "    def setCounter(self, counter):\n",
        "        self.counter = counter\n",
        "\n",
        "    def getCounter(self):\n",
        "        return self.counter"
      ],
      "execution_count": 0,
      "outputs": []
    },
    {
      "cell_type": "markdown",
      "metadata": {
        "id": "mP_XkFnJoXMU",
        "colab_type": "text"
      },
      "source": [
        "Pentru a apela o metodă a unui obiect, folosim numele instanției, urmat de punct\n",
        "apoi de apelul metodei:"
      ]
    },
    {
      "cell_type": "code",
      "metadata": {
        "id": "pRPoysZQocst",
        "colab_type": "code",
        "outputId": "194173a9-3518-4aa7-98b7-d77bfc913974",
        "colab": {
          "base_uri": "https://localhost:8080/",
          "height": 35
        }
      },
      "source": [
        "exampleObject = ExampleClass2()\n",
        "exampleObject.setCounter(10)\n",
        "print(exampleObject.getCounter())"
      ],
      "execution_count": 0,
      "outputs": [
        {
          "output_type": "stream",
          "text": [
            "10\n"
          ],
          "name": "stdout"
        }
      ]
    },
    {
      "cell_type": "markdown",
      "metadata": {
        "id": "9STLL5csoejk",
        "colab_type": "text"
      },
      "source": [
        "După cum ați observat din exemple, membrii de date nu trebuie declarați explicit\n",
        "la începutul clasei. Dacă obiectul nu are un membru `x`, acesta va fi creat în\n",
        "momentul asignării unei valori la `self.x` (de obicei este o idee bună să\n",
        "inițializăm toți membrii doriți în constructor).\n",
        "\n",
        "**Notă:** Spre deosebire de Java, nu există tipuri de protecție (`private`, \n",
        "`protected` etc.). Toate metodele și membrii de date sunt accesibile de\n",
        "oriunde, echivalentul `public` din Java."
      ]
    },
    {
      "cell_type": "markdown",
      "metadata": {
        "id": "n7icpy2GojZ9",
        "colab_type": "text"
      },
      "source": [
        "### IV. Constructor\n",
        "\n",
        "Constructorii sunt metode speciale prin care putem instanția o clasă, creând un\n",
        "obiect concret. Spre deosebire de Java (unde putem avea multiplii constructori,\n",
        "diferențiați prin numărul și tipul parametrilor, purtând toți numele clasei), în\n",
        "Python putem avea un singur constructor, numit `__init__`."
      ]
    },
    {
      "cell_type": "code",
      "metadata": {
        "id": "WT7ZX4cwoos3",
        "colab_type": "code",
        "colab": {}
      },
      "source": [
        "class ExampleClass3(object):\n",
        "    def __init__(self, counter, name):\n",
        "        self.counter = counter\n",
        "        self.name = name"
      ],
      "execution_count": 0,
      "outputs": []
    },
    {
      "cell_type": "markdown",
      "metadata": {
        "id": "SJGtumQNoqlN",
        "colab_type": "text"
      },
      "source": [
        "Dacă `__init__` este definit, acesta va fi apelat implicit atunci când\n",
        "instanțiem o clasă. Pentru constructori care primesc parametrii, instanțierea\n",
        "trebuie să îi precizeze, ca în cazul oricărui apel de funcție:"
      ]
    },
    {
      "cell_type": "code",
      "metadata": {
        "id": "PfAfnXaAot2C",
        "colab_type": "code",
        "colab": {}
      },
      "source": [
        "exampleObject = ExampleClass3(10, \"Example Name\")"
      ],
      "execution_count": 0,
      "outputs": []
    },
    {
      "cell_type": "markdown",
      "metadata": {
        "id": "NqFLe0iJuxpB",
        "colab_type": "text"
      },
      "source": [
        "## Schelet de cod\n",
        "\n",
        "Pentru a vă ajuta în dezvoltarea laboratorului, vă punem la dispoziție un schelet de cod pentru a modela Expresii Regulate și Automate Finite Nedeterministe. Acesta oferă clase, constante și funcții ajutătoare. Pentru a încărca scheletul de cod, rulați următoarele căsuțe (implementarea efectivă este irelevantă, e suficient să citiți prezentarea interfeței)."
      ]
    },
    {
      "cell_type": "markdown",
      "metadata": {
        "id": "wYYMmCt4QGlc",
        "colab_type": "text"
      },
      "source": [
        "### `RegularExpression`\n",
        "\n",
        "Clasa care modelează o expresie regulată. O instanță a acestei clase are un membru `type` care indică tipul expresiei regulate (șirul vid, simbol, concatenare etc.). Valoarea acestuia poate fi una din următoarele constante simbolice. În funcție de valoarea câmpului `type`, pot exista alți membri cu o valoare bine definită:\n",
        "\n",
        "* `EMPTY_SET`: \n",
        "* `EMPTY_STRING`: \n",
        "* `SYMBOL`: `symbol` este simbolul expresiei (e.g. \"0\", \"a\", \"#\" etc.)\n",
        "* `STAR`: `lhs` este expresia căreia îi este aplicată Kleene Star\n",
        "* `CONCATENATION`: `lhs` și `rhs` sunt expresiile concatenate\n",
        "* `ALTERNATION`: `lhs` și `rhs` sunt expresiile separate prin \"sau\"\n",
        "\n",
        "\n",
        "Atunci când sunt definiți, `lhs` și `rhs` sunt, la rândul lor, obiecte de tip `RegularExpression`.\n",
        "\n",
        "Pentru a instanția o expresie regulată, pasați tipul ca prim argument al constructorului, urmat apoi de celălalte argumente necesare, i.e.:\n",
        "\n",
        "```python\n",
        "e = RegularExpression(EMPTY_SET)\n",
        "e = RegularExpression(EMPTY_STRING)\n",
        "e = RegularExpression(SYMBOL, \"0\")\n",
        "e = RegularExpression(CONCATENATION, e1, e2)\n",
        "e = RegularExpression(ALTERNATION, e1, e2)\n",
        "e = RegularExpression(STAR, e1)\n",
        "```\n",
        "\n",
        "Puteți pasa un `RegularExpression` funcției `print` pentru a obține o reprezentare citibilă (caracterul \"`|`\" este folosit pentru a reprezenta \"sau\").\n",
        "\n",
        "```python\n",
        ">>> expr = ...\n",
        ">>> print(expr)\n",
        "(A|B)(a|b)*(0|1)*\n",
        "```"
      ]
    },
    {
      "cell_type": "markdown",
      "metadata": {
        "id": "dfvExRt8U8bL",
        "colab_type": "text"
      },
      "source": [
        "### `NFA`\n",
        "\n",
        "Clasa care modelează Automate Finite Nedeterministe. Un obiect de acest tip are următorii membri:\n",
        "\n",
        "\n",
        "*   `alphabet`: o listă de simboluri\n",
        "*   `states`: un `set` de întregi non-negativi\n",
        "*   `start_state`: un membru al `states`\n",
        "*   `final_states`: o submulțime a `states`\n",
        "*   `delta`: un dicționar ale cărui chei sunt configurații, iar valorile submulțimi ale `states`\n",
        "    * o configurație este o pereche (stare, cuvânt), unde un cuvânt este un șir de simboluri din `alphabet`\n",
        "\n",
        "Pentru a instanția un `NFA`, trebuie pasate valori pentru aceste atribute în ordinea prezentată mai sus. E.g.:\n",
        "\n",
        "```python\n",
        "# NFA pentru limbajul cuvintelor peste {0, 1} care se termină în \"11\"\n",
        "nfa = NFA(\"01\", {0, 1, 2}, 0, {2}, {(0, \"0\"): {0}, (0, \"1\"): {0, 1}, (1, \"1\"): {2}})\n",
        "```\n",
        "\n",
        "Pentru a obține o reprezentare sub formă de graf a automatului, puteți apela metoda `to_graphviz` ca să obțineți un obiect graph; pentru a-l randa, puteți să-l scrieți pe propria linie într-o celulă de cod sau să executați explicit `graphviz.Source(obj)`.\n",
        "\n",
        "```python\n",
        "nfa.to_graphviz()\n",
        "```\n",
        "\n",
        "![alt text](https://ocw.cs.pub.ro/ppcarte/lib/exe/fetch.php?cache=&w=338&h=126&tok=d841da&media=lfa:automaton.png)"
      ]
    },
    {
      "cell_type": "markdown",
      "metadata": {
        "id": "pGsKxGqXdq4Y",
        "colab_type": "text"
      },
      "source": [
        "### Alte funcții\n",
        "\n",
        "În procesul de conversie Expresie Regulată -> Automat Finit Nedeterminist, va trebui să combinați automate sau să adăugați noi stări. Pentru că stările trebuie să fie unice (e.g. nu putem avea două stări `2`), va trebui să aveți un mecanism de generare și redenumire de stări care garantează nume unice. Pentru asta, aveți la dispoziție următoarele două funcții:\n",
        "\n",
        "#### `rename_states`\n",
        "\n",
        "Această funcție primește un automat țintă și un automat de referință. Funcția schimbă numele automatului țintă astfel încât acesta să nu aibă nicio stare în comun cu cel de referință, care este lăsat neschimbat. Stările primului automat sunt redenumite chiar dacă îndeplineau deja condiția de a fi diferite de cele ale automatului de referință.\n",
        "\n",
        "```python\n",
        "# atât a, cât și b au două stări: 0 și 1\n",
        "a = NFA(\"ab\", {0, 1}, 0, {1}, {(0, \"a\"): {1}})\n",
        "b = NFA(\"ab\", {0, 1}, 0, {1}, {(0, \"b\"): {1}})\n",
        "\n",
        "rename_states(a, b)\n",
        "# după acest apel, stările lui a au fost redenumite în altceva decât 0 și 1\n",
        "```\n",
        "\n",
        "#### `new_states`\n",
        "\n",
        "Funcția primește un număr arbitrar de automate și întoarce o pereche de stări noi, care nu apar în niciunul din automatele primite.\n",
        "\n",
        "```python\n",
        "new_state1, new_state2 = new_states()\n",
        "# sau\n",
        "new_state1, new_state2 = new_states(nfa1)\n",
        "# sau\n",
        "new_state1, new_state2 = new_states(nfa1, nfa2)\n",
        "# sau\n",
        "new_state1, new_state2 = new_states(nfa1, nfa2, nfa3)\n",
        "# etc...\n",
        "```"
      ]
    },
    {
      "cell_type": "code",
      "metadata": {
        "id": "fBZ8UIdpvfN_",
        "colab_type": "code",
        "cellView": "form",
        "colab": {}
      },
      "source": [
        "#@title\n",
        "# Order is important as it's used for priority\n",
        "EMPTY_SET = 0\n",
        "EMPTY_STRING = 1\n",
        "SYMBOL = 2\n",
        "STAR = 3\n",
        "CONCATENATION = 4\n",
        "ALTERNATION = 5\n",
        "\n",
        "\n",
        "_BASE_TYPES = {EMPTY_SET, EMPTY_STRING, SYMBOL}\n",
        "\n",
        "\n",
        "def str_paranthesize(parent_type, re):\n",
        "    if parent_type > re.type or \\\n",
        "       (parent_type == re.type and parent_type != STAR):\n",
        "        return str(re)\n",
        "\n",
        "    return \"({!s})\".format(str(re))\n",
        "\n",
        "\n",
        "class RegularExpression(object):\n",
        "    \"\"\"Model a Regular Expression TDA\n",
        "\n",
        "    The member \"type\" is always available, indicating the type of the\n",
        "    RegularExpression. Its value dictates which other members (if any) are\n",
        "    defined:\n",
        "\n",
        "        - EMPTY_SET:\n",
        "        - EMPTY_STRING:\n",
        "        - SYMBOL: \"symbol\" is the symbol\n",
        "        - STAR: \"lhs\" is the RegularExpression\n",
        "        - CONCATENATION: \"lhs\" and \"rhs\" are the RegularExpressions\n",
        "        - ALTERNATION: \"lhs\" and \"rhs\" are the RegularExpressions\n",
        "\n",
        "    \"\"\"\n",
        "    def __init__(self, type, obj1=None, obj2=None):\n",
        "        \"\"\"Create a Regular Expression\n",
        "\n",
        "        The value of the \"type\" parameter influences the interpretation of the\n",
        "        other two paramters:\n",
        "\n",
        "            - EMPTY_SET: obj1 and obj2 are unused\n",
        "            - EMPTY_STRING: obj1 and obj2 are unused\n",
        "            - SYMBOL: obj1 should be a symbol; obj2 is unused\n",
        "            - STAR: obj1 should be a RegularExpression; obj2 is unused\n",
        "            - CONCATENATION: obj1 and obj2 should be RegularExpressions\n",
        "            - ALTERNATION: obj1 and obj2 should be RegularExpressions\n",
        "\n",
        "        \"\"\"\n",
        "        self.type = type\n",
        "        if type == SYMBOL:\n",
        "            assert obj1 is not None\n",
        "            self.symbol = obj1\n",
        "        elif type == CONCATENATION or type == ALTERNATION:\n",
        "            assert (obj1 is not None) and (obj2 is not None)\n",
        "            assert isinstance(obj1, RegularExpression)\n",
        "            assert isinstance(obj2, RegularExpression)\n",
        "            self.lhs = obj1\n",
        "            self.rhs = obj2\n",
        "        elif type == STAR:\n",
        "            assert obj1 is not None\n",
        "            assert isinstance(obj1, RegularExpression)\n",
        "            self.lhs = obj1\n",
        "\n",
        "    def __str__(self):\n",
        "        if self.type == EMPTY_SET:\n",
        "            return \"∅\"\n",
        "        elif self.type == EMPTY_STRING:\n",
        "            return \"ε\"\n",
        "        elif self.type == SYMBOL:\n",
        "            return str(self.symbol)\n",
        "        elif self.type == CONCATENATION:\n",
        "            slhs = str_paranthesize(self.type, self.lhs)\n",
        "            srhs = str_paranthesize(self.type, self.rhs)\n",
        "            return slhs + srhs\n",
        "        elif self.type == ALTERNATION:\n",
        "            slhs = str_paranthesize(self.type, self.lhs)\n",
        "            srhs = str_paranthesize(self.type, self.rhs)\n",
        "            return slhs + \"|\" + srhs\n",
        "        elif self.type == STAR:\n",
        "            slhs = str_paranthesize(self.type, self.lhs)\n",
        "            return slhs + \"*\"\n",
        "\n",
        "        return \"\"\n",
        "\n",
        "    def is_base_type(self):\n",
        "        return self.type in _BASE_TYPES\n"
      ],
      "execution_count": 0,
      "outputs": []
    },
    {
      "cell_type": "code",
      "metadata": {
        "id": "Qksh_qN_we2j",
        "colab_type": "code",
        "cellView": "form",
        "colab": {}
      },
      "source": [
        "#@title\n",
        "import graphviz\n",
        "\n",
        "\n",
        "class NFA(object):\n",
        "    \"\"\"Model a Nondeterministic Finite Automaton\n",
        "\n",
        "    The automaton contains the following:\n",
        "\n",
        "        - \"alphabet\": a list of symbols\n",
        "        - \"states\": set of non-negative integers\n",
        "        - \"start_state\": a member of \"states\"\n",
        "        - \"final_states\": a subset of \"states\"\n",
        "        - \"delta\": a dictionary from configurations to a set of states\n",
        "                {(state, word): next_states}\n",
        "            where a \"configuration\" is a tuple consisting of a member of\n",
        "            \"states\" and a list of 0 or more symbols from \"alphabet\" and\n",
        "            \"next_states\" is a subset of \"states\"\n",
        "\n",
        "    \"\"\"\n",
        "    def __init__(self, alphabet, states, start_state, final_states, delta):\n",
        "        \"\"\"See class docstring\"\"\"\n",
        "        assert start_state in states\n",
        "        assert final_states.issubset(states)\n",
        "        for symbol in \"()*|-,\":\n",
        "            assert symbol not in alphabet\n",
        "\n",
        "        self.alphabet = alphabet\n",
        "        self.states = states\n",
        "        self.start_state = start_state\n",
        "        self.final_states = final_states\n",
        "        self.delta = delta\n",
        "\n",
        "    def to_graphviz(self):\n",
        "        def get_edges(delta):\n",
        "            edges = {}\n",
        "            for (prev_state, word), next_states in delta.items():\n",
        "                for next_state in next_states:\n",
        "                    edge = (prev_state, next_state)\n",
        "                    if edge not in edges:\n",
        "                        edges[edge] = set()\n",
        "\n",
        "                    edges[edge].add(word)\n",
        "\n",
        "            return edges\n",
        "\n",
        "        def collate_symbols(edge_words):\n",
        "            collated = []\n",
        "            i = 0\n",
        "            while i < len(self.alphabet):\n",
        "                if self.alphabet[i] not in edge_words:\n",
        "                    i += 1\n",
        "                    continue\n",
        "\n",
        "                range_start = i\n",
        "                while i + 1 < len(self.alphabet) and \\\n",
        "                      self.alphabet[i + 1] in edge_words:\n",
        "                    i += 1\n",
        "\n",
        "                dist = i - range_start\n",
        "                if dist >= 2:\n",
        "                    label = \"{}-{}\".format(self.alphabet[range_start],\n",
        "                                           self.alphabet[i])\n",
        "                    collated.append(label)\n",
        "                else:\n",
        "                    collated.append(str(self.alphabet[range_start]))\n",
        "                    if dist == 1:\n",
        "                        collated.append(str(self.alphabet[range_start + 1]))\n",
        "                        i += 1\n",
        "\n",
        "                i += 1\n",
        "\n",
        "            collated += [word for word in edge_words if len(word) > 1]\n",
        "            if \"\" in edge_words:\n",
        "                collated.insert(0, \"ε\")\n",
        "\n",
        "            return \",\".join(collated)\n",
        "\n",
        "        dot = graphviz.Digraph()\n",
        "        dot.graph_attr['rankdir'] = 'LR'\n",
        "\n",
        "        # This is here to nicely mark the starting state.\n",
        "        dot.node(\"_\", shape=\"point\")\n",
        "        dot.edge(\"_\", str(self.start_state))\n",
        "\n",
        "        for state in self.states:\n",
        "            shape = \"doublecircle\" if state in self.final_states else \"circle\"\n",
        "            dot.node(str(state), shape=shape)\n",
        "\n",
        "        edges = get_edges(self.delta)\n",
        "\n",
        "        edges = {k: collate_symbols(v) for k, v in edges.items()}\n",
        "        for (prev_state, next_state), label in edges.items():\n",
        "            dot.edge(str(prev_state), str(next_state), label=label)\n",
        "\n",
        "        return dot"
      ],
      "execution_count": 0,
      "outputs": []
    },
    {
      "cell_type": "code",
      "metadata": {
        "id": "ro8WsJ_pOzzR",
        "colab_type": "code",
        "cellView": "form",
        "colab": {}
      },
      "source": [
        "#@title\n",
        "def rename_states(target, reference):\n",
        "    off = max(reference.states) + 1\n",
        "    target.start_state += off\n",
        "    target.states = set(map(lambda s: s + off, target.states))\n",
        "    target.final_states = set(map(lambda s: s + off, target.final_states))\n",
        "    new_delta = {}\n",
        "    for (state, symbol), next_states in target.delta.items():\n",
        "        new_next_states = set(map(lambda s: s + off, next_states))\n",
        "        new_delta[(state + off, symbol)] = new_next_states\n",
        "\n",
        "    target.delta = new_delta\n",
        "\n",
        "\n",
        "def new_states(*nfas):\n",
        "    state = 0\n",
        "    for nfa in nfas:\n",
        "        m = max(nfa.states)\n",
        "        if m >= state:\n",
        "            state = m + 1\n",
        "\n",
        "    return state, state + 1"
      ],
      "execution_count": 0,
      "outputs": []
    },
    {
      "cell_type": "markdown",
      "metadata": {
        "id": "R4Z4Z0YQO4Iv",
        "colab_type": "text"
      },
      "source": [
        "## Expresie Regulată -> Automat Finit Nedeterminist\n",
        "\n",
        "Implementați funcția `re_to_nfa` care primește un `RegularExpression` și produce un `NFA` echivalent, implementând [algoritmul studiat la curs](https://ocw.cs.pub.ro/ppcarte/doku.php?id=lfa:nfa#from_regular_expressions_to_nfas)."
      ]
    },
    {
      "cell_type": "code",
      "metadata": {
        "id": "J1MycvTBF4GM",
        "colab_type": "code",
        "colab": {}
      },
      "source": [
        "def re_to_nfa(re):\n",
        "    \"\"\"Convert a Regular Expression to a Nondeterminstic Finite Automaton\"\"\"\n",
        "    # TODO Thompson's algorithm"
      ],
      "execution_count": 0,
      "outputs": []
    },
    {
      "cell_type": "markdown",
      "metadata": {
        "id": "FQx9T1SyP-aT",
        "colab_type": "text"
      },
      "source": [
        "Mai jos aveți reprezentarea expresiei regulate prezentă în exemplul din curs ca să vă ajute să verificați corectitudinea implementării. Puteți să începeți cu expresii mai simple, implementând pe rând construcțiile necesare algoritmului."
      ]
    },
    {
      "cell_type": "code",
      "metadata": {
        "id": "As_m3DIQGPlI",
        "colab_type": "code",
        "colab": {}
      },
      "source": [
        "z = RegularExpression(SYMBOL, \"0\")\n",
        "o = RegularExpression(SYMBOL, \"1\")\n",
        "A = RegularExpression(SYMBOL, \"A\")\n",
        "B = RegularExpression(SYMBOL, \"B\")\n",
        "a = RegularExpression(SYMBOL, \"a\")\n",
        "b = RegularExpression(SYMBOL, \"b\")\n",
        "\n",
        "e1 = RegularExpression(ALTERNATION, A, B)\n",
        "e2 = RegularExpression(ALTERNATION, a, b)\n",
        "e3 = RegularExpression(ALTERNATION, z, o)\n",
        "e4 = RegularExpression(STAR, e2)\n",
        "e5 = RegularExpression(STAR, e3)\n",
        "e6 = RegularExpression(CONCATENATION, e1, e4)\n",
        "e7 = RegularExpression(CONCATENATION, e6, e5)"
      ],
      "execution_count": 0,
      "outputs": []
    }
  ]
}